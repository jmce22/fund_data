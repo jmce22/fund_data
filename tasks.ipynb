{
 "cells": [
  {
   "cell_type": "markdown",
   "metadata": {},
   "source": [
    "## Fundamentals of Data Analysis - Tasks ##\n",
    "\n",
    "**Name: James McEneaney**\n",
    "\n",
    "***"
   ]
  },
  {
   "cell_type": "markdown",
   "metadata": {},
   "source": [
    "### Task 1 - *Collatz Conjecture* ###\n",
    "\n",
    "The Collatz conjecture is a famous unsolved problem in mathematics. The problem is to prove that if you start with any positive\n",
    "integer x and repeatedly apply the function f(x) below, you always get stuck in the repeating sequence 1, 4, 2, 1, 4, 2, . . .\n",
    "\n",
    "$f(x)$ equals $(x ÷ 2)$ if $x$ is even and $(3x + 1)$ otherwise.\n",
    "\n",
    "For example, starting with the value 10, which is an even number, we divide it by 2 to get 5. Then 5 is an odd number so, we multiply by 3 and add 1 to get 16. Then we repeatedly divide by 2 to get 8, 4, 2, 1. Once we are at 1, we go back to 4 and get stuck in the repeating sequence 4, 2, 1 as we suspected.\n",
    "The task below aims to verify, using Python, that the conjecture is true for the first 10,000 positive integers."
   ]
  },
  {
   "cell_type": "code",
   "execution_count": 17,
   "metadata": {},
   "outputs": [],
   "source": [
    "def f(x):\n",
    "    # If x is even, divide by two. \n",
    "    if x % 2 == 0:\n",
    "        return x/2\n",
    "    else:\n",
    "        return (3*x) + 1\n",
    "    "
   ]
  },
  {
   "cell_type": "code",
   "execution_count": 18,
   "metadata": {},
   "outputs": [],
   "source": [
    "def collatz(x):\n",
    "    while x != 1:\n",
    "        print(x, end = ', ')\n",
    "        x = f(x)\n",
    "    print(x)"
   ]
  },
  {
   "cell_type": "code",
   "execution_count": 19,
   "metadata": {},
   "outputs": [
    {
     "name": "stdout",
     "output_type": "stream",
     "text": [
      "10000, 5000.0, 2500.0, 1250.0, 625.0, 1876.0, 938.0, 469.0, 1408.0, 704.0, 352.0, 176.0, 88.0, 44.0, 22.0, 11.0, 34.0, 17.0, 52.0, 26.0, 13.0, 40.0, 20.0, 10.0, 5.0, 16.0, 8.0, 4.0, 2.0, 1.0\n"
     ]
    }
   ],
   "source": [
    "collatz(10000)\n"
   ]
  },
  {
   "cell_type": "markdown",
   "metadata": {},
   "source": [
    "***\n",
    "\n",
    "#### End of Task 1 ####\n",
    "\n",
    "***"
   ]
  },
  {
   "cell_type": "markdown",
   "metadata": {},
   "source": [
    "### Task 2 - *Penguin Dataset* ###\n",
    "\n",
    "Give an overview of the famous penguins data set, explaining the types of variables it contains. Suggest the types of variables\n",
    "that should be used to model them in Python, explaining your rationale. "
   ]
  },
  {
   "cell_type": "markdown",
   "metadata": {},
   "source": [
    "Introduction:\n",
    "\n",
    "The Penguins dataset contains data relating to penguins found on the Palmer Archipelego in Antarctica. It consists of 344 rows of data, with the data in each row each corresponding to an individual penguin studied for the dataset. This dataset can \n",
    "\n",
    "Firstly, I downloaded the CSV file from the raw data on https://github.com/mwaskom/seaborn-data/blob/master/penguins.csv and saved it into the same repository that I have saved this file. Next, I will read the 'penguins' csv file using Pandas; this allows me to see the kinds of data contained within the dataset."
   ]
  },
  {
   "cell_type": "code",
   "execution_count": 20,
   "metadata": {},
   "outputs": [
    {
     "name": "stdout",
     "output_type": "stream",
     "text": [
      "    species     island  bill_length_mm  bill_depth_mm  flipper_length_mm  \\\n",
      "0    Adelie  Torgersen            39.1           18.7              181.0   \n",
      "1    Adelie  Torgersen            39.5           17.4              186.0   \n",
      "2    Adelie  Torgersen            40.3           18.0              195.0   \n",
      "3    Adelie  Torgersen             NaN            NaN                NaN   \n",
      "4    Adelie  Torgersen            36.7           19.3              193.0   \n",
      "..      ...        ...             ...            ...                ...   \n",
      "339  Gentoo     Biscoe             NaN            NaN                NaN   \n",
      "340  Gentoo     Biscoe            46.8           14.3              215.0   \n",
      "341  Gentoo     Biscoe            50.4           15.7              222.0   \n",
      "342  Gentoo     Biscoe            45.2           14.8              212.0   \n",
      "343  Gentoo     Biscoe            49.9           16.1              213.0   \n",
      "\n",
      "     body_mass_g     sex  \n",
      "0         3750.0    MALE  \n",
      "1         3800.0  FEMALE  \n",
      "2         3250.0  FEMALE  \n",
      "3            NaN     NaN  \n",
      "4         3450.0  FEMALE  \n",
      "..           ...     ...  \n",
      "339          NaN     NaN  \n",
      "340       4850.0  FEMALE  \n",
      "341       5750.0    MALE  \n",
      "342       5200.0  FEMALE  \n",
      "343       5400.0    MALE  \n",
      "\n",
      "[344 rows x 7 columns]\n"
     ]
    }
   ],
   "source": [
    "import pandas as pd\n",
    "df = pd.read_csv('C:\\\\Users\\\\James\\\\pands\\\\fund_data\\\\fund_data\\\\penguins.csv')\n",
    "print(df)\n"
   ]
  },
  {
   "cell_type": "markdown",
   "metadata": {},
   "source": [
    "From the dataset, we can see there are seven pieces of data measured, namely:\n",
    "- the **species** of penguin\n",
    "- the **island** on which the penguin was found\n",
    "- the **bill length**, in millimetres, for the penguin\n",
    "- the **bill depth**, in millimetres, for the penguin\n",
    "- the **flipper length**, in millimetres, for the penguin\n",
    "- the **body mass**, in grams, of the penguin\n",
    "- the **sex** of the penguin\n",
    "\n",
    "These pieces of data can be categorised into two categories of quantitative (measured numerically) and qualitative (measured or recorded in a non-numerical way). \n",
    "\n",
    "These categories can be further sub-divided into subcategories:\n",
    "\n",
    "- Quantitative:\n",
    "    - *Discrete*: This is data measured by counting in whole numbers (integers)\n",
    "    - *Continuous*: This kind of data can take on any value within a range - the number of values are potentially unlimited, although by rounding numbers we can impose limits on the range of values which can be measured.\n",
    "    - *Interval*: These scales have a zero point which is arbitrary (eg. calendar systems) and can represent values less than zero.\n",
    "    - *Ratio*: These scales have a zero point which has a basis is not arbitrary (eg. height) and can only represent values of zero or greater.\n",
    "<br/><br/>\n",
    "- Qualitative:\n",
    "    - *Nominal*: this is data which does not have an inherent ranking or order. Examples include lists of countries. \n",
    "    - *Ordinal*: This is data which does lend itself to being ranked or ordered. Examples include the answers to questions of the type 'on a scale of 1 to 5, where 1 is strongly disagree and 5 is strongly agree ..\".\n",
    "\n",
    "    *Binary* data is Nominal or Ordinal data which can only fall into one of only two categories. \n",
    "\n",
    "From the first and last five rows of the dataset above, it can be seen that the 'species', 'island' and 'sex' are nominal data types, and additionally sex is a binary nominal data type. These three pieces of data would best be measured on Python using the **String** data type.\n",
    "\n",
    "'Bill length', 'bill depth', 'flipper length' and body mass' are continuous data types; however, here 'bill length' and 'bill depth' are measured to within one decimal place, and flipper length and body mass are rounded to the nearest whole number. \n",
    "\n",
    "Therefore, the data types which should be used in Python to measure these pieces of data are:\n",
    "- **String** for 'species', 'island' and 'sex'\n",
    "- **Float** for 'bill length' and 'bill depth'\n",
    "- **Integer** for 'flipper length' and 'body mass'\n"
   ]
  },
  {
   "cell_type": "markdown",
   "metadata": {},
   "source": []
  },
  {
   "cell_type": "code",
   "execution_count": null,
   "metadata": {},
   "outputs": [],
   "source": [
    "\n"
   ]
  },
  {
   "cell_type": "markdown",
   "metadata": {},
   "source": []
  },
  {
   "cell_type": "code",
   "execution_count": null,
   "metadata": {},
   "outputs": [],
   "source": []
  },
  {
   "cell_type": "code",
   "execution_count": null,
   "metadata": {},
   "outputs": [],
   "source": []
  },
  {
   "cell_type": "code",
   "execution_count": null,
   "metadata": {},
   "outputs": [],
   "source": []
  },
  {
   "cell_type": "code",
   "execution_count": null,
   "metadata": {},
   "outputs": [],
   "source": []
  },
  {
   "cell_type": "code",
   "execution_count": null,
   "metadata": {},
   "outputs": [],
   "source": [
    "\n"
   ]
  },
  {
   "cell_type": "code",
   "execution_count": null,
   "metadata": {},
   "outputs": [],
   "source": []
  },
  {
   "cell_type": "code",
   "execution_count": null,
   "metadata": {},
   "outputs": [],
   "source": []
  },
  {
   "cell_type": "code",
   "execution_count": null,
   "metadata": {},
   "outputs": [],
   "source": []
  }
 ],
 "metadata": {
  "kernelspec": {
   "display_name": "base",
   "language": "python",
   "name": "python3"
  },
  "language_info": {
   "codemirror_mode": {
    "name": "ipython",
    "version": 3
   },
   "file_extension": ".py",
   "mimetype": "text/x-python",
   "name": "python",
   "nbconvert_exporter": "python",
   "pygments_lexer": "ipython3",
   "version": "3.11.4"
  }
 },
 "nbformat": 4,
 "nbformat_minor": 2
}
