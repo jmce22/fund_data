{
 "cells": [
  {
   "cell_type": "markdown",
   "metadata": {},
   "source": [
    "## Fundamentals of Data Analysis - Tasks ##\n",
    "\n",
    "**Name: James McEneaney**\n",
    "\n",
    "***"
   ]
  },
  {
   "cell_type": "markdown",
   "metadata": {},
   "source": [
    "### Task 1 - *Collatz Conjecture* ###\n",
    "\n",
    "The Collatz conjecture is a famous unsolved problem in mathematics. The problem is to prove that if you start with any positive\n",
    "integer x and repeatedly apply the function f(x) below, you always get stuck in the repeating sequence 1, 4, 2, 1, 4, 2, . . .\n",
    "\n",
    "$f(x)$ equals $(x ÷ 2)$ if $x$ is even and $(3x + 1)$ otherwise.\n",
    "\n",
    "For example, starting with the value 10, which is an even number, we divide it by 2 to get 5. Then 5 is an odd number so, we multiply by 3 and add 1 to get 16. Then we repeatedly divide by 2 to get 8, 4, 2, 1. Once we are at 1, we go back to 4 and get stuck in the repeating sequence 4, 2, 1 as we suspected.\n",
    "The task below aims to verify, using Python, that the conjecture is true for the first 10,000 positive integers."
   ]
  },
  {
   "cell_type": "code",
   "execution_count": 116,
   "metadata": {},
   "outputs": [],
   "source": [
    "def f(x):\n",
    "    # If x is even, divide by two. \n",
    "    if x % 2 == 0:\n",
    "        return x/2\n",
    "    else:\n",
    "        return (3*x) + 1\n",
    "    "
   ]
  },
  {
   "cell_type": "code",
   "execution_count": 117,
   "metadata": {},
   "outputs": [
    {
     "data": {
      "text/plain": [
       "[10000,\n",
       " 5000.0,\n",
       " 2500.0,\n",
       " 1250.0,\n",
       " 625.0,\n",
       " 1876.0,\n",
       " 938.0,\n",
       " 469.0,\n",
       " 1408.0,\n",
       " 704.0,\n",
       " 352.0,\n",
       " 176.0,\n",
       " 88.0,\n",
       " 44.0,\n",
       " 22.0,\n",
       " 11.0,\n",
       " 34.0,\n",
       " 17.0,\n",
       " 52.0,\n",
       " 26.0,\n",
       " 13.0,\n",
       " 40.0,\n",
       " 20.0,\n",
       " 10.0,\n",
       " 5.0,\n",
       " 16.0,\n",
       " 8.0,\n",
       " 4.0,\n",
       " 2.0,\n",
       " 1.0]"
      ]
     },
     "execution_count": 117,
     "metadata": {},
     "output_type": "execute_result"
    }
   ],
   "source": [
    "def collatz_sequence(x):\n",
    "    sequence = [x]\n",
    "    while x != 1:\n",
    "      #  print(x, end = ', ')   # this prints the output of the function on the same line\n",
    "        x = f(x)\n",
    "        sequence.append(x)   # this continuously adds the output of x = f(x) to the sequence until x = 1\n",
    "    return(sequence)\n",
    "    \n",
    "collatz_sequence(10000)"
   ]
  },
  {
   "cell_type": "code",
   "execution_count": 118,
   "metadata": {},
   "outputs": [],
   "source": [
    "# I previously included this code, but it was causing a huge block of output to be printed on my Github, so I decided to comment it out.\n",
    "# Prior to submission of these tasks for assessment, I will try to resolve this. \n",
    "# For now, I have called the function for the number 10000 only\n",
    "\n",
    "#def test_collatz(limit):\n",
    "#    for i in range (1, limit + 1):\n",
    "#        sequence = collatz_sequence(i)\n",
    "#        if sequence[-1] != 1:    # this stipulates that if the last element of the sequence is not equal to 1, the collatz conjecture has failed\n",
    "#            print(f\"collatz conjecture has failed for n = {i}\")\n",
    "\n",
    "#test_collatz(10000)\n"
   ]
  },
  {
   "cell_type": "markdown",
   "metadata": {},
   "source": [
    "***\n",
    "\n",
    "#### End of Task 1 ####\n",
    "\n",
    "***"
   ]
  },
  {
   "cell_type": "markdown",
   "metadata": {},
   "source": [
    "### Task 2 - *Penguin Dataset* ###\n",
    "\n",
    "Give an overview of the famous penguins data set, explaining the types of variables it contains. Suggest the types of variables\n",
    "that should be used to model them in Python, explaining your rationale. \n",
    "\n",
    "---"
   ]
  },
  {
   "cell_type": "markdown",
   "metadata": {},
   "source": [
    "Introduction:\n",
    "\n",
    "The Penguins dataset contains data relating to penguins found on the Palmer Archipelego in Antarctica. It consists of 344 rows of data, with the data in each row each corresponding to an individual penguin studied for the dataset. This dataset can \n",
    "\n",
    "Firstly, I downloaded the CSV file from the raw data on https://github.com/mwaskom/seaborn-data/blob/master/penguins.csv and saved it into the same repository that I have saved this file. Next, I will read the 'penguins' csv file using Pandas; this allows me to see the kinds of data contained within the dataset."
   ]
  },
  {
   "cell_type": "code",
   "execution_count": 119,
   "metadata": {},
   "outputs": [
    {
     "name": "stdout",
     "output_type": "stream",
     "text": [
      "    species     island  bill_length  bill_depth  flipper length  body mass  \\\n",
      "0    Adelie  Torgersen         39.1        18.7           181.0     3750.0   \n",
      "1    Adelie  Torgersen         39.5        17.4           186.0     3800.0   \n",
      "2    Adelie  Torgersen         40.3        18.0           195.0     3250.0   \n",
      "3    Adelie  Torgersen          NaN         NaN             NaN        NaN   \n",
      "4    Adelie  Torgersen         36.7        19.3           193.0     3450.0   \n",
      "..      ...        ...          ...         ...             ...        ...   \n",
      "339  Gentoo     Biscoe          NaN         NaN             NaN        NaN   \n",
      "340  Gentoo     Biscoe         46.8        14.3           215.0     4850.0   \n",
      "341  Gentoo     Biscoe         50.4        15.7           222.0     5750.0   \n",
      "342  Gentoo     Biscoe         45.2        14.8           212.0     5200.0   \n",
      "343  Gentoo     Biscoe         49.9        16.1           213.0     5400.0   \n",
      "\n",
      "        sex  \n",
      "0      MALE  \n",
      "1    FEMALE  \n",
      "2    FEMALE  \n",
      "3       NaN  \n",
      "4    FEMALE  \n",
      "..      ...  \n",
      "339     NaN  \n",
      "340  FEMALE  \n",
      "341    MALE  \n",
      "342  FEMALE  \n",
      "343    MALE  \n",
      "\n",
      "[344 rows x 7 columns]\n"
     ]
    }
   ],
   "source": [
    "import pandas as pd\n",
    "df = pd.read_csv('C:\\\\Users\\\\James\\\\pands\\\\fund_data\\\\fund_data\\\\penguins.csv')\n",
    "\n",
    "# renaming four of the columns so they are easier to type in my code later on\n",
    "df.rename(columns={'bill_length_mm': 'bill_length', 'bill_depth_mm': 'bill_depth', 'flipper_length_mm': 'flipper length', 'body_mass_g': 'body mass'}, inplace=True)\n",
    "\n",
    "print(df)\n"
   ]
  },
  {
   "cell_type": "markdown",
   "metadata": {},
   "source": [
    "From the dataset, we can see there are seven pieces of data measured, namely:\n",
    "- the **species** of penguin\n",
    "- the **island** on which the penguin was found\n",
    "- the **bill length**, in millimetres, for the penguin\n",
    "- the **bill depth**, in millimetres, for the penguin\n",
    "- the **flipper length**, in millimetres, for the penguin\n",
    "- the **body mass**, in grams, of the penguin\n",
    "- the **sex** of the penguin\n",
    "\n",
    "These pieces of data can be categorised into two categories of quantitative (measured numerically) and qualitative (measured or recorded in a non-numerical way). \n",
    "\n",
    "These categories can be further sub-divided into subcategories:\n",
    "\n",
    "- Quantitative:\n",
    "    - *Discrete*: This is data measured by counting in whole numbers (integers)\n",
    "    - *Continuous*: This kind of data can take on any value within a range - the number of values are potentially unlimited, although by rounding numbers we can impose limits on the range of values which can be measured.\n",
    "    - *Interval*: These scales have a zero point which is arbitrary (eg. calendar systems) and can represent values less than zero.\n",
    "    - *Ratio*: These scales have a zero point which has a basis that is not arbitrary (eg. height) and can only represent values of zero or greater.\n",
    "\n",
    "- Qualitative:\n",
    "    - *Nominal*: this is data which does not have an inherent ranking or order. Examples include lists of countries. \n",
    "    - *Ordinal*: This is data which does lend itself to being ranked or ordered. Examples include the answers to questions of the type 'on a scale of 1 to 5, where 1 is strongly disagree and 5 is strongly agree ..\".\n",
    "\n",
    "    *Binary* data is Nominal or Ordinal data which can only fall into one of only two categories. \n",
    "\n",
    "From the first and last five rows of the dataset above, it can be seen that the 'species', 'island' and 'sex' are nominal data types, and additionally sex is a binary nominal data type. These three pieces of data would best be measured on Python using the **String** data type.\n",
    "\n",
    "'Bill length', 'bill depth', 'flipper length' and body mass' are continuous data types; however, here 'bill length' and 'bill depth' are measured to within one decimal place, and flipper length and body mass are rounded to the nearest whole number. \n",
    "\n",
    "Therefore, the data types which should be used in Python to measure these pieces of data are:\n",
    "- **String** for 'species', 'island' and 'sex'\n",
    "- **Float** for 'bill length' and 'bill depth'\n",
    "- **Integer** for 'flipper length' and 'body mass'\n"
   ]
  },
  {
   "cell_type": "markdown",
   "metadata": {},
   "source": [
    "***\n",
    "\n",
    "#### End of Task 2 ####\n",
    "\n",
    "***"
   ]
  },
  {
   "cell_type": "markdown",
   "metadata": {},
   "source": [
    "### Task 3 - *Penguin Dataset* ###\n",
    "\n",
    "For each of the variables in the penguins data set, suggest what probability distribution from the numpy random distributions list\n",
    "is the most appropriate to model the variable.\n",
    "\n",
    "----\n"
   ]
  },
  {
   "cell_type": "markdown",
   "metadata": {},
   "source": [
    "Introduction:\n",
    "\n",
    "In this task, I will seek to determine which distribution found in the numpy random distributions list mostly accurately models the distribution of each variable as found in the penguin dataset:\n",
    "https://numpy.org/doc/stable/reference/random/generator.html#distributions\n",
    "To work with numpy, we will first need to import it:"
   ]
  },
  {
   "cell_type": "code",
   "execution_count": 120,
   "metadata": {},
   "outputs": [],
   "source": [
    "import numpy as np"
   ]
  },
  {
   "cell_type": "markdown",
   "metadata": {},
   "source": [
    "1. **Species**: \n",
    "This is a string variable, and by using the 'value_counts' function on the dataset, we see that it contains 152 rows for the Adelie species, 124 entries for the Gentoo species and 68 entries for the Chinstrap species."
   ]
  },
  {
   "cell_type": "code",
   "execution_count": 121,
   "metadata": {},
   "outputs": [
    {
     "name": "stdout",
     "output_type": "stream",
     "text": [
      "Adelie       152\n",
      "Gentoo       124\n",
      "Chinstrap     68\n",
      "Name: species, dtype: int64\n"
     ]
    }
   ],
   "source": [
    "species_counts = df['species'].value_counts()\n",
    "print(species_counts)"
   ]
  },
  {
   "cell_type": "markdown",
   "metadata": {},
   "source": [
    "To decide what probability distribution might best model the distribution of these species, I will plot the distribution of the three species on a bar chart and try to relate the shape of this bar chart back to a known probability distribution. First I will import matplotib:"
   ]
  },
  {
   "cell_type": "code",
   "execution_count": 122,
   "metadata": {},
   "outputs": [],
   "source": [
    "import matplotlib.pyplot as plt"
   ]
  },
  {
   "cell_type": "markdown",
   "metadata": {},
   "source": [
    "To determine the probability (based on the distribution of species within the studied population) of selecting a penguin of a given species from the penguin population of the Palmer Archipelego, we can use the .get method and divide the count for each species by the total count of the dataset:"
   ]
  },
  {
   "cell_type": "code",
   "execution_count": 97,
   "metadata": {},
   "outputs": [
    {
     "name": "stdout",
     "output_type": "stream",
     "text": [
      "The probability of a penguin being from the species Adelie is 44.186%\n",
      "The probability of a penguin being from species Gentoo is 36.047%\n",
      "The probability of a penguin being from the species Chinstrap is 19.767%\n"
     ]
    }
   ],
   "source": [
    "prob_Adelie = species_counts.get('Adelie')/len(df)\n",
    "prob_Gentoo = species_counts.get('Gentoo')/len(df)\n",
    "prob_Chinstrap = species_counts.get('Chinstrap')/len(df)\n",
    "\n",
    "print(f\"The probability of a penguin being from the species Adelie is {prob_Adelie:.3%}\")    # measured up to three decimal places\n",
    "print(f\"The probability of a penguin being from species Gentoo is {prob_Gentoo:.3%}\")\n",
    "print(f\"The probability of a penguin being from the species Chinstrap is {prob_Chinstrap:.3%}\")"
   ]
  },
  {
   "cell_type": "markdown",
   "metadata": {},
   "source": [
    "Next I will create a bar chart to  get a sense of how the three different species are distributed among the entire population of penguins studied:"
   ]
  },
  {
   "cell_type": "code",
   "execution_count": 98,
   "metadata": {},
   "outputs": [
    {
     "data": {
      "image/png": "[encoded data removed]",
      "text/plain": [
       "<Figure size 640x480 with 1 Axes>"
      ]
     },
     "metadata": {},
     "output_type": "display_data"
    }
   ],
   "source": [
    "plt.bar(species_counts.index, species_counts.values, color=['red', 'yellow', 'purple'])\n",
    "plt.xlabel('Species')\n",
    "plt.ylabel('Count')\n",
    "plt.title('Number of penguins by Species')\n",
    "plt.show()"
   ]
  },
  {
   "cell_type": "code",
   "execution_count": null,
   "metadata": {},
   "outputs": [],
   "source": []
  },
  {
   "cell_type": "markdown",
   "metadata": {},
   "source": [
    "2. **Island**: This is a string variable, and we can perform a similar analysis on this variable as did for Species (ie. establish how many rows contain each variable and create a bar chart to illustrate how often each occurs). We can see that 168 penguins sampled came from Biscoe Island, 124 came from Dream Island, and 52 came from Torgersen Island."
   ]
  },
  {
   "cell_type": "code",
   "execution_count": 99,
   "metadata": {},
   "outputs": [
    {
     "name": "stdout",
     "output_type": "stream",
     "text": [
      "Biscoe       168\n",
      "Dream        124\n",
      "Torgersen     52\n",
      "Name: island, dtype: int64\n"
     ]
    }
   ],
   "source": [
    "island_counts = df['island'].value_counts()\n",
    "print(island_counts)"
   ]
  },
  {
   "cell_type": "markdown",
   "metadata": {},
   "source": [
    "The probabilities of a penguin coming from each island can be found using the .get method and dividing the count for each island by the total count of the dataset."
   ]
  },
  {
   "cell_type": "code",
   "execution_count": 100,
   "metadata": {},
   "outputs": [
    {
     "name": "stdout",
     "output_type": "stream",
     "text": [
      "The probability of a penguin being from Biscoe is 48.837%\n",
      "The probability of a penguin being from Dream Island is 36.047%\n",
      "The probability of a penguin being from Torgersen is 15.116%\n"
     ]
    }
   ],
   "source": [
    "prob_Biscoe = island_counts.get('Biscoe')/len(df)\n",
    "prob_Dream = island_counts.get('Dream')/len(df)\n",
    "prob_Torgersen = island_counts.get('Torgersen')/len(df)\n",
    "\n",
    "print(f\"The probability of a penguin being from Biscoe is {prob_Biscoe:.3%}\")\n",
    "print(f\"The probability of a penguin being from Dream Island is {prob_Dream:.3%}\")\n",
    "print(f\"The probability of a penguin being from Torgersen is {prob_Torgersen:.3%}\")"
   ]
  },
  {
   "cell_type": "markdown",
   "metadata": {},
   "source": [
    "Next we can create a bar chart to illustrate the what proportion of the total sample came from each island:"
   ]
  },
  {
   "cell_type": "code",
   "execution_count": 101,
   "metadata": {},
   "outputs": [
    {
     "data": {
      "image/png": "[encoded data removed]",
      "text/plain": [
       "<Figure size 640x480 with 1 Axes>"
      ]
     },
     "metadata": {},
     "output_type": "display_data"
    }
   ],
   "source": [
    "plt.bar(island_counts.index, island_counts.values, color=['brown', 'black', 'green'])\n",
    "plt.xlabel('Island')\n",
    "plt.ylabel('Count')\n",
    "plt.title('Number of penguins studied on each Island')\n",
    "plt.show()"
   ]
  },
  {
   "cell_type": "code",
   "execution_count": null,
   "metadata": {},
   "outputs": [],
   "source": []
  },
  {
   "cell_type": "markdown",
   "metadata": {},
   "source": [
    "3. **Sex**: The 344 penguins studied can be divided by sex. A quick look at the first and last five rows printed from the dataframe above shows some entries for sex to be 'NaN'. To see the numbers of penguins which fall into each category of Male, Female and NaN, we use value_counts function again. We also use the .fillna function to assign a string value to the NaN values; this prevents us from getting a TypeError when we try to plot the distribution later."
   ]
  },
  {
   "cell_type": "code",
   "execution_count": 102,
   "metadata": {},
   "outputs": [
    {
     "name": "stdout",
     "output_type": "stream",
     "text": [
      "MALE      168\n",
      "FEMALE    165\n",
      "Null       11\n",
      "Name: sex, dtype: int64\n"
     ]
    }
   ],
   "source": [
    "df['sex'] = df['sex'].fillna('Null')\n",
    "sex_counts = df['sex'].value_counts(dropna=False)\n",
    "print(sex_counts)"
   ]
  },
  {
   "cell_type": "markdown",
   "metadata": {},
   "source": [
    "We can calculate the percentage of the total penguin population studied which is male and the percentage which is female. To do this, we can exclude rows where the variable for 'sex' is NaN:"
   ]
  },
  {
   "cell_type": "code",
   "execution_count": 103,
   "metadata": {},
   "outputs": [
    {
     "name": "stdout",
     "output_type": "stream",
     "text": [
      "11\n"
     ]
    }
   ],
   "source": [
    "print(sex_counts.get('Null'))\n",
    "\n",
    "#counts_male_female = len(df) - \n",
    "#print (counts_male_female)\n",
    "# prob_male = sex_counts.get('MALE')/((len(df)) - (sex_counts.get('Null')))\n",
    "# print (prob_male)\n",
    "#prob_female = sex_counts.get('FEMALE')/len(sex_counts)\n",
    "\n",
    "\n",
    "#print(f\"The probability of a penguin being Male is {prob_male:.3%}\")\n",
    "#print(f\"The probability of a penguin being Female is {prob_female:.3%}\")\n"
   ]
  },
  {
   "cell_type": "code",
   "execution_count": 104,
   "metadata": {},
   "outputs": [
    {
     "data": {
      "image/png": "[encoded data removed]",
      "text/plain": [
       "<Figure size 640x480 with 1 Axes>"
      ]
     },
     "metadata": {},
     "output_type": "display_data"
    }
   ],
   "source": [
    "plt.bar(sex_counts.index, sex_counts.values, color=['blue', 'pink', 'green'])\n",
    "plt.xlabel('Sex')\n",
    "plt.ylabel('Count')\n",
    "plt.title('Number of penguins by Sex')\n",
    "plt.show()"
   ]
  },
  {
   "cell_type": "markdown",
   "metadata": {},
   "source": [
    "If we exclude the rows of missing data, we can see that the number of males and female penguins are very similar. The distribution of the variable 'sex' seems to approach the uniform distribution, where the probaility of selecting a male is almost the same as that of selecting a female."
   ]
  },
  {
   "cell_type": "markdown",
   "metadata": {},
   "source": [
    "4. **Bill Length**: This variable is a floating point number."
   ]
  },
  {
   "cell_type": "markdown",
   "metadata": {},
   "source": [
    "To get a sense of the distribution of this variable among the penguins in the dataset, we can use the .describe() function:"
   ]
  },
  {
   "cell_type": "code",
   "execution_count": 105,
   "metadata": {},
   "outputs": [
    {
     "name": "stdout",
     "output_type": "stream",
     "text": [
      "count    342.000000\n",
      "mean      43.921930\n",
      "std        5.459584\n",
      "min       32.100000\n",
      "25%       39.225000\n",
      "50%       44.450000\n",
      "75%       48.500000\n",
      "max       59.600000\n",
      "Name: bill_length, dtype: float64\n"
     ]
    }
   ],
   "source": [
    "bill_length_stats = df['bill_length'].describe()\n",
    "\n",
    "print(bill_length_stats)"
   ]
  },
  {
   "cell_type": "markdown",
   "metadata": {},
   "source": [
    "We can use a histogram to visualise the distribution of bill length among all penguin species:"
   ]
  },
  {
   "cell_type": "code",
   "execution_count": 106,
   "metadata": {},
   "outputs": [
    {
     "data": {
      "image/png": "[encoded data removed]",
      "text/plain": [
       "<Figure size 640x480 with 1 Axes>"
      ]
     },
     "metadata": {},
     "output_type": "display_data"
    }
   ],
   "source": [
    "plt.hist(x = df['bill_length'], bins = 18)\n",
    "plt.show()"
   ]
  },
  {
   "cell_type": "code",
   "execution_count": 107,
   "metadata": {},
   "outputs": [],
   "source": [
    "\n",
    "# From lecture 3.07: To plot a standardised normal distribution over my histogram, I will create the below function and call it in a \n",
    "# formula which creates a plot\n",
    "\n",
    "# ** come back to this **\n",
    "\n",
    "#from scipy.stats import norm\n",
    "\n",
    "#def f(x):\n",
    " #  A = 1.0/ np.sqrt(2.0 * np.pi)\n",
    "  # B = np.exp(-(x**2) / 2.0)\n",
    "   #return A * B\n",
    "\n",
    "#plt.hist(x = df['bill_length'], bins = 18, density=True, label = 'Histogram')\n",
    "\n",
    "#fig, ax = plt.subplots(figsize=(12,4))\n",
    "\n",
    "#ax.hist(df['bill_length'], bins = 20, density = True)\n",
    "\n",
    "#ax.plot(x, f(x))\n",
    "\n",
    "\n",
    "\n",
    "\n"
   ]
  },
  {
   "cell_type": "markdown",
   "metadata": {},
   "source": [
    "The distribution of the variable 'bill length' does not seem to follow the normal distrubution among the full group of 342 penguins; instead it seems there are two or three peak values. My first thought is to test each species separately to assess whether the variable 'bill length' is normally distributed within each species."
   ]
  },
  {
   "cell_type": "markdown",
   "metadata": {},
   "source": [
    "To get the distribution of bill length within each species of penguin, we can use the code and plots as below:\n",
    "\n",
    "*Adelie:*"
   ]
  },
  {
   "cell_type": "code",
   "execution_count": 108,
   "metadata": {},
   "outputs": [
    {
     "data": {
      "image/png": "[encoded data removed]",
      "text/plain": [
       "<Figure size 640x480 with 1 Axes>"
      ]
     },
     "metadata": {},
     "output_type": "display_data"
    }
   ],
   "source": [
    "# Adelie\n",
    "\n",
    "# here the loc function isolates the entries in the species column called 'Adelie'\n",
    "adelie_bill_length = df.loc[df['species'] == 'Adelie', 'bill_length']       \n",
    "\n",
    "plt.hist(x = adelie_bill_length, bins = 10)\n",
    "plt.xlabel('Bill Length in mm')\n",
    "plt.ylabel('Frequency')\n",
    "plt.show()\n",
    "\n"
   ]
  },
  {
   "cell_type": "markdown",
   "metadata": {},
   "source": [
    "We can see that the distribution more closely matches the normal distribution, which is shown below:\n",
    "\n",
    "<img src = \"https://www.scribbr.de/wp-content/uploads/2023/01/standard-normal-distribution-example.webp\" alt=\"Normal Distribution\" width = \"50%\">"
   ]
  },
  {
   "cell_type": "markdown",
   "metadata": {},
   "source": [
    "The degree to which the distribution of the variable deviates from a symmetrical normal distribution can be measured by the skewness of the sample. \n",
    "\n",
    "<img src = \"https://upload.wikimedia.org/wikipedia/commons/c/cc/Relationship_between_mean_and_median_under_different_skewness.png\" alt=\"Slight right skew\" width = \"%20\">\n",
    "\n",
    "Numerically, skewness can be interpreted as follows:\n",
    "- a figure of between - 0.5 and 0.5 represents a symmetrical or almost-symmetrical distribution (with 0 representing the normal distribution) \n",
    "- a figure of between - 1 and - 0.5 or between 0.5 and 1 represent slight degrees of left and right (negative and positive) skewness respectively\n",
    "- a figure of less than - 1 or greater than 1 represent extreme left and right skew respectively"
   ]
  },
  {
   "cell_type": "markdown",
   "metadata": {},
   "source": [
    "The figure for skewness for Adelie penguins is calculated below to be 0.16, showing that the distribution is relatively close to normally distributed."
   ]
  },
  {
   "cell_type": "code",
   "execution_count": 127,
   "metadata": {},
   "outputs": [
    {
     "name": "stdout",
     "output_type": "stream",
     "text": [
      "0.16167430921060444\n"
     ]
    }
   ],
   "source": [
    "skew_bl_adelie = adelie_bill_length.skew()\n",
    "print(skew_bl_adelie)"
   ]
  },
  {
   "cell_type": "markdown",
   "metadata": {},
   "source": [
    "*Gentoo:*"
   ]
  },
  {
   "cell_type": "code",
   "execution_count": 109,
   "metadata": {},
   "outputs": [
    {
     "data": {
      "image/png": "[encoded data removed]",
      "text/plain": [
       "<Figure size 640x480 with 1 Axes>"
      ]
     },
     "metadata": {},
     "output_type": "display_data"
    }
   ],
   "source": [
    "# Gentoo\n",
    "\n",
    "# here the loc function isolates the entries in the species column called 'Gentoo'\n",
    "gentoo_bill_length = df.loc[df['species'] == 'Gentoo', 'bill_length']       \n",
    "\n",
    "plt.hist(x = gentoo_bill_length, bins = 10)\n",
    "plt.xlabel('Bill Length in mm')\n",
    "plt.ylabel('Frequency')\n",
    "plt.show()\n"
   ]
  },
  {
   "cell_type": "markdown",
   "metadata": {},
   "source": [
    "Bill length for Gentoo penguins possibly follows a Gumble distribution, as illustrated on the numpy page for that distribution:\n",
    "\n",
    "<img src = https://numpy.org/doc/stable/_images/numpy-random-gumbel-1_00_00.png alt=\"Gumbel Distribution\">\n",
    "\n",
    "The Gumbel distribution is often used to model the distribution of the maximum (or  minimum) of a number of samples of various distributions eg. to predict the liklihood that a natural disaster will occur based on the past maximum values for different natural phenomena such as floodwater levels."
   ]
  },
  {
   "cell_type": "markdown",
   "metadata": {},
   "source": [
    "In any case, it is a distribution with positively skewed as shown above."
   ]
  },
  {
   "cell_type": "code",
   "execution_count": 126,
   "metadata": {},
   "outputs": [
    {
     "name": "stdout",
     "output_type": "stream",
     "text": [
      "0.6511310115197422\n"
     ]
    }
   ],
   "source": [
    "skew_bl_gentoo = gentoo_bill_length.skew()\n",
    "print(skew_bl_gentoo)"
   ]
  },
  {
   "cell_type": "markdown",
   "metadata": {},
   "source": [
    "We can see that the skewness of the distribution of the trait is 0.65, which is in agreement the appearance of the positive skew."
   ]
  },
  {
   "cell_type": "markdown",
   "metadata": {},
   "source": [
    "*Chinstrap:*"
   ]
  },
  {
   "cell_type": "code",
   "execution_count": 110,
   "metadata": {},
   "outputs": [
    {
     "data": {
      "image/png": "[encoded data removed]",
      "text/plain": [
       "<Figure size 640x480 with 1 Axes>"
      ]
     },
     "metadata": {},
     "output_type": "display_data"
    }
   ],
   "source": [
    "# Chinstrap\n",
    "\n",
    "# here the loc function isolates the entries in the species column called 'Chinstrap'\n",
    "chinstrap_bill_length = df.loc[df['species'] == 'Chinstrap', 'bill_length']       \n",
    "\n",
    "plt.hist(x = chinstrap_bill_length, bins = 10)\n",
    "plt.xlabel('Bill Length in mm')\n",
    "plt.ylabel('Frequency')\n",
    "plt.show()\n"
   ]
  },
  {
   "cell_type": "markdown",
   "metadata": {},
   "source": [
    "The skewness of the distribution of Bill length among Chinstrap penguins can be seen to be "
   ]
  },
  {
   "cell_type": "code",
   "execution_count": 129,
   "metadata": {},
   "outputs": [
    {
     "name": "stdout",
     "output_type": "stream",
     "text": [
      "-0.0905746092920542\n"
     ]
    }
   ],
   "source": [
    "skew_bl_chinstrap = chinstrap_bill_length.skew()\n",
    "print(skew_bl_chinstrap)"
   ]
  },
  {
   "cell_type": "markdown",
   "metadata": {},
   "source": [
    "5. **Bill Depth**: This variable is a floating point number."
   ]
  },
  {
   "cell_type": "markdown",
   "metadata": {},
   "source": [
    "To get a sense of the distribution of this variable among the penguins in the dataset, we can use the .describe() function:"
   ]
  },
  {
   "cell_type": "code",
   "execution_count": 111,
   "metadata": {},
   "outputs": [
    {
     "name": "stdout",
     "output_type": "stream",
     "text": [
      "count    342.000000\n",
      "mean      17.151170\n",
      "std        1.974793\n",
      "min       13.100000\n",
      "25%       15.600000\n",
      "50%       17.300000\n",
      "75%       18.700000\n",
      "max       21.500000\n",
      "Name: bill_depth, dtype: float64\n"
     ]
    }
   ],
   "source": [
    "bill_depth_stats = df['bill_depth'].describe()\n",
    "\n",
    "print(bill_depth_stats)"
   ]
  },
  {
   "cell_type": "markdown",
   "metadata": {},
   "source": [
    "In the same way we did for bill length, we can use a histogram to visualise the distribution of bill depth among all the penguin species studied:"
   ]
  },
  {
   "cell_type": "code",
   "execution_count": 112,
   "metadata": {},
   "outputs": [
    {
     "data": {
      "image/png": "[encoded data removed]",
      "text/plain": [
       "<Figure size 640x480 with 1 Axes>"
      ]
     },
     "metadata": {},
     "output_type": "display_data"
    }
   ],
   "source": [
    "plt.hist(x = df['bill_depth'], bins = 18)\n",
    "plt.xlabel('Bill Depth in mm')\n",
    "plt.ylabel('Frequency')\n",
    "plt.show()"
   ]
  },
  {
   "cell_type": "markdown",
   "metadata": {},
   "source": [
    "Again, we can break the dataset down by species and plot a histogram to illustrate the distribution of bill length within each species:\n",
    "\n",
    "*Adelie:*"
   ]
  },
  {
   "cell_type": "code",
   "execution_count": 113,
   "metadata": {},
   "outputs": [
    {
     "data": {
      "image/png": "[encoded data removed]",
      "text/plain": [
       "<Figure size 640x480 with 1 Axes>"
      ]
     },
     "metadata": {},
     "output_type": "display_data"
    }
   ],
   "source": [
    "# Adelie\n",
    "\n",
    "# here the loc function isolates the entries in the species column called 'Adelie'\n",
    "adelie_bill_depth = df.loc[df['species'] == 'Adelie', 'bill_depth']       \n",
    "\n",
    "plt.hist(x = adelie_bill_depth, bins = 10)\n",
    "plt.xlabel('Bill Depth in mm')\n",
    "plt.ylabel('Frequency')\n",
    "plt.show()\n"
   ]
  },
  {
   "cell_type": "markdown",
   "metadata": {},
   "source": [
    "*Gentoo:*"
   ]
  },
  {
   "cell_type": "code",
   "execution_count": 114,
   "metadata": {},
   "outputs": [
    {
     "data": {
      "image/png": "[encoded data removed]",
      "text/plain": [
       "<Figure size 640x480 with 1 Axes>"
      ]
     },
     "metadata": {},
     "output_type": "display_data"
    }
   ],
   "source": [
    "# Gentoo\n",
    "\n",
    "# here the loc function isolates the entries in the species column called 'Gentoo'\n",
    "adelie_bill_depth = df.loc[df['species'] == 'Gentoo', 'bill_depth']       \n",
    "\n",
    "plt.hist(x = adelie_bill_depth, bins = 10)\n",
    "plt.xlabel('Bill Depth in mm')\n",
    "plt.ylabel('Frequency')\n",
    "plt.show()\n"
   ]
  },
  {
   "cell_type": "markdown",
   "metadata": {},
   "source": [
    "*Chinstrap:*"
   ]
  },
  {
   "cell_type": "code",
   "execution_count": 115,
   "metadata": {},
   "outputs": [
    {
     "data": {
      "image/png": "[encoded data removed]",
      "text/plain": [
       "<Figure size 640x480 with 1 Axes>"
      ]
     },
     "metadata": {},
     "output_type": "display_data"
    }
   ],
   "source": [
    "# Chinstrap\n",
    "\n",
    "# here the loc function isolates the entries in the species column called 'Chinstrap'\n",
    "chinstrap_bill_depth = df.loc[df['species'] == 'Chinstrap', 'bill_depth']       \n",
    "\n",
    "plt.hist(x = chinstrap_bill_depth, bins = 10)\n",
    "plt.xlabel('Bill Depth in mm')\n",
    "plt.ylabel('Frequency')\n",
    "plt.show()\n"
   ]
  },
  {
   "cell_type": "code",
   "execution_count": null,
   "metadata": {},
   "outputs": [],
   "source": []
  },
  {
   "cell_type": "markdown",
   "metadata": {},
   "source": [
    "6. **Flipper Length**: This variable is an integer."
   ]
  },
  {
   "cell_type": "code",
   "execution_count": null,
   "metadata": {},
   "outputs": [],
   "source": []
  },
  {
   "cell_type": "code",
   "execution_count": null,
   "metadata": {},
   "outputs": [],
   "source": []
  },
  {
   "cell_type": "markdown",
   "metadata": {},
   "source": [
    "7. **Body Mass**: This variable is an integer."
   ]
  },
  {
   "cell_type": "markdown",
   "metadata": {},
   "source": [
    "***\n",
    "\n",
    "#### End of Task 3 ####\n",
    "\n",
    "***"
   ]
  },
  {
   "cell_type": "markdown",
   "metadata": {},
   "source": [
    "### Task 4 - *Flipping a coin* ###\n",
    "\n",
    "Suppose you are flipping two coins, each with a probability p of giving heads. Plot the entropy of the total number of heads versus p.\n",
    "\n",
    "***"
   ]
  },
  {
   "cell_type": "code",
   "execution_count": null,
   "metadata": {},
   "outputs": [],
   "source": []
  }
 ],
 "metadata": {
  "kernelspec": {
   "display_name": "base",
   "language": "python",
   "name": "python3"
  },
  "language_info": {
   "codemirror_mode": {
    "name": "ipython",
    "version": 3
   },
   "file_extension": ".py",
   "mimetype": "text/x-python",
   "name": "python",
   "nbconvert_exporter": "python",
   "pygments_lexer": "ipython3",
   "version": "3.11.4"
  }
 },
 "nbformat": 4,
 "nbformat_minor": 2
}
