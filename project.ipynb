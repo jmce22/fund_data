{
 "cells": [
  {
   "cell_type": "markdown",
   "metadata": {},
   "source": [
    "## Fundamentals of Data Analysis - Project ##\n",
    "\n",
    "**Name: James McEneaney** <br/><br/>\n",
    "**Course: Higher Diploma in Computing in Data Analytics, ATU Ireland** <br/><br/> \n",
    "**Semester: Semester 2 2023** <br/><br/>\n",
    "\n",
    "\n",
    "***"
   ]
  },
  {
   "cell_type": "markdown",
   "metadata": {},
   "source": [
    "This project sets out to analyse the data points and variables within Fisher's Iris Dataset. For each variable, the focus will be on the classifcation of the variable according to it's type as represented in Python code, utilising appropriate summary statistics to analyse the variable and displaying variables using the most appropriate plots.\n",
    "\n",
    "I am using Visual Studio Code (VS Code) (version 1.83.1) to write my project and to upload it to my repository on GitHub for assessment. I am also using Jupyter code cells within VS Code.\n",
    "\n",
    "This file will firstly give some background information to the dataset in question. \n",
    "\n",
    "I will then outline the steps which I needed to take before I could begin the actual analysis itself: downloading the dataset, preparing the dataset by adding the correct headings, and importing the modules, libraries and packages which I used to complete the project.\n"
   ]
  },
  {
   "cell_type": "code",
   "execution_count": null,
   "metadata": {},
   "outputs": [],
   "source": []
  },
  {
   "cell_type": "code",
   "execution_count": null,
   "metadata": {},
   "outputs": [],
   "source": [
    "import matplotlib.pyplot as plt\n",
    "import numpy as np\n",
    "import pandas as pd\n",
    "import seaborn as sns"
   ]
  },
  {
   "cell_type": "markdown",
   "metadata": {},
   "source": [
    "***\n",
    "\n",
    "### End ###"
   ]
  }
 ],
 "metadata": {
  "language_info": {
   "name": "python"
  }
 },
 "nbformat": 4,
 "nbformat_minor": 2
}
